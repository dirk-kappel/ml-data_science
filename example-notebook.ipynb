{
 "cells": [
  {
   "cell_type": "code",
   "execution_count": 13,
   "id": "cfbc0190-3d59-436c-b0e3-2d0f1451526e",
   "metadata": {},
   "outputs": [],
   "source": [
    "import pandas as pd\n",
    "import numpy as np\n",
    "import matplotlib.pyplot as plt\n",
    "import sklearn"
   ]
  },
  {
   "cell_type": "code",
   "execution_count": 13,
   "id": "100e2217-1e73-463f-bf33-c68945de374c",
   "metadata": {},
   "outputs": [],
   "source": [
    "import pandas as pd\n",
    "import numpy as np\n",
    "import matplotlib.pyplot as plt\n",
    "import sklearn"
   ]
  },
  {
   "cell_type": "code",
   "execution_count": 1,
   "id": "6c8e618c-3a5f-4bbb-8e9d-078d764efca8",
   "metadata": {
    "scrolled": true
   },
   "outputs": [
    {
     "name": "stdout",
     "output_type": "stream",
     "text": [
      "Hello, World!\n"
     ]
    }
   ],
   "source": [
    "print(\"Hello, World!\")"
   ]
  },
  {
   "cell_type": "markdown",
   "id": "32ffed97-a692-4bf1-927b-063b4b4497d8",
   "metadata": {},
   "source": [
    "### Hello World -- Markdown\n",
    "change between code and markdown by pressing esc then (y) = code and (m) = markdown"
   ]
  },
  {
   "cell_type": "markdown",
   "id": "959e42f0-49b9-4ef8-a935-3ba34c3064d2",
   "metadata": {},
   "source": [
    "## Quick commands\n",
    "esc -> dd : This will delete a jupyter input row"
   ]
  },
  {
   "cell_type": "code",
   "execution_count": 14,
   "id": "ceb07981-7fa3-48b6-a642-ab1edfae2149",
   "metadata": {},
   "outputs": [
    {
     "name": "stdout",
     "output_type": "stream",
     "text": [
      "env  environment.yml  example-notebook.ipynb\n"
     ]
    }
   ],
   "source": [
    "!ls"
   ]
  },
  {
   "cell_type": "code",
   "execution_count": 15,
   "id": "eb5f43d9-95fc-4c83-a011-8352271aefef",
   "metadata": {},
   "outputs": [
    {
     "name": "stdout",
     "output_type": "stream",
     "text": [
      "\u001b[0m\u001b[01;34menv\u001b[0m/  environment.yml  example-notebook.ipynb\n"
     ]
    }
   ],
   "source": [
    "ls"
   ]
  },
  {
   "cell_type": "code",
   "execution_count": null,
   "id": "dce29e73-aeaa-4256-b56d-6a0f3552962c",
   "metadata": {},
   "outputs": [],
   "source": []
  },
  {
   "cell_type": "code",
   "execution_count": null,
   "id": "90c3db36-4850-41e3-98ff-e2d0c921a6de",
   "metadata": {},
   "outputs": [],
   "source": []
  },
  {
   "cell_type": "code",
   "execution_count": null,
   "id": "72d1c3ab-a190-490f-91e9-8a31c63199f0",
   "metadata": {},
   "outputs": [],
   "source": []
  },
  {
   "cell_type": "code",
   "execution_count": null,
   "id": "180a41d7-467d-4961-b62c-6c5f89a27b63",
   "metadata": {},
   "outputs": [],
   "source": []
  }
 ],
 "metadata": {
  "kernelspec": {
   "display_name": "Python 3 (ipykernel)",
   "language": "python",
   "name": "python3"
  },
  "language_info": {
   "codemirror_mode": {
    "name": "ipython",
    "version": 3
   },
   "file_extension": ".py",
   "mimetype": "text/x-python",
   "name": "python",
   "nbconvert_exporter": "python",
   "pygments_lexer": "ipython3",
   "version": "3.12.9"
  }
 },
 "nbformat": 4,
 "nbformat_minor": 5
}
